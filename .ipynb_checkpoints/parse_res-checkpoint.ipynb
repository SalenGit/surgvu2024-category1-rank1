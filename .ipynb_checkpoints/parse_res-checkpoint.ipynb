{
 "cells": [
  {
   "cell_type": "code",
   "execution_count": 2,
   "id": "32be870e-d77a-41c2-8f9e-64675175b87a",
   "metadata": {},
   "outputs": [],
   "source": [
    "import glob\n",
    "import os"
   ]
  },
  {
   "cell_type": "code",
   "execution_count": 3,
   "id": "53cd3ee4-6392-433a-8808-afb182d03602",
   "metadata": {},
   "outputs": [],
   "source": [
    "file_path = 'test/vid_1_short.mp4'"
   ]
  },
  {
   "cell_type": "code",
   "execution_count": 5,
   "id": "fa321659-5b03-46b2-b19c-8a5fbe4e44bf",
   "metadata": {},
   "outputs": [
    {
     "name": "stderr",
     "output_type": "stream",
     "text": [
      "sh: 1: python: not found\n"
     ]
    },
    {
     "data": {
      "text/plain": [
       "32512"
      ]
     },
     "execution_count": 5,
     "metadata": {},
     "output_type": "execute_result"
    }
   ],
   "source": [
    "os.system(f'python detect.py --source {file_path} --half --img 800 --conf-thres 0.6 --iou-thres 0.01 --weights stage_0_weights/full.pt --name \"video_test\" --save-txt --save-conf --nosave')"
   ]
  },
  {
   "cell_type": "code",
   "execution_count": 7,
   "id": "c2b728d9-d484-4d5a-b5a1-bd4e36d9c95f",
   "metadata": {},
   "outputs": [
    {
     "name": "stderr",
     "output_type": "stream",
     "text": [
      "/bin/sh: 1: python: not found\n"
     ]
    },
    {
     "data": {
      "text/plain": [
       "CompletedProcess(args='python detect.py --source test/vid_1_short.mp4 --half --img 800 --conf-thres 0.6 --iou-thres 0.01 --weights stage_0_weights/full.pt --name \"video_test\" --save-txt --save-conf --nosave', returncode=127)"
      ]
     },
     "execution_count": 7,
     "metadata": {},
     "output_type": "execute_result"
    }
   ],
   "source": [
    "import subprocess\n",
    " \n",
    "# 执行shell命令\n",
    "command = \"ls -l\"\n",
    "subprocess.run(f'python detect.py --source {file_path} --half --img 800 --conf-thres 0.6 --iou-thres 0.01 --weights stage_0_weights/full.pt --name \"video_test\" --save-txt --save-conf --nosave', shell=True)"
   ]
  },
  {
   "cell_type": "code",
   "execution_count": 9,
   "id": "79cc460c-a8e4-43c5-ba4e-9d61f03346dd",
   "metadata": {},
   "outputs": [
    {
     "name": "stderr",
     "output_type": "stream",
     "text": [
      "inference_debug.sh: line 3: python: command not found\n"
     ]
    },
    {
     "data": {
      "text/plain": [
       "CompletedProcess(args='bash inference_debug.sh', returncode=127)"
      ]
     },
     "execution_count": 9,
     "metadata": {},
     "output_type": "execute_result"
    }
   ],
   "source": [
    "subprocess.run('bash inference_debug.sh', shell=True)"
   ]
  },
  {
   "cell_type": "code",
   "execution_count": 8,
   "id": "4565f6b5-bb81-478e-a4c1-c2ca7e0645d4",
   "metadata": {},
   "outputs": [
    {
     "data": {
      "text/plain": [
       "'/usr/local/sbin:/usr/local/bin:/usr/sbin:/usr/bin:/sbin:/bin:/snap/bin'"
      ]
     },
     "execution_count": 8,
     "metadata": {},
     "output_type": "execute_result"
    }
   ],
   "source": [
    "os.environ['PATH']"
   ]
  }
 ],
 "metadata": {
  "kernelspec": {
   "display_name": "torch",
   "language": "python",
   "name": "torch"
  },
  "language_info": {
   "codemirror_mode": {
    "name": "ipython",
    "version": 3
   },
   "file_extension": ".py",
   "mimetype": "text/x-python",
   "name": "python",
   "nbconvert_exporter": "python",
   "pygments_lexer": "ipython3",
   "version": "3.11.7"
  }
 },
 "nbformat": 4,
 "nbformat_minor": 5
}
