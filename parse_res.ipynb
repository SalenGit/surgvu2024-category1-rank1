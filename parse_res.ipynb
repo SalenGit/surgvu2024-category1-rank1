{
 "cells": [
  {
   "cell_type": "code",
   "execution_count": 1,
   "id": "32be870e-d77a-41c2-8f9e-64675175b87a",
   "metadata": {},
   "outputs": [],
   "source": [
    "import glob\n",
    "import os\n",
    "import cv2\n",
    "import matplotlib.pyplot as plt"
   ]
  },
  {
   "cell_type": "code",
   "execution_count": 2,
   "id": "53cd3ee4-6392-433a-8808-afb182d03602",
   "metadata": {},
   "outputs": [],
   "source": [
    "fname = 'test/vid_1_short.mp4'"
   ]
  },
  {
   "cell_type": "code",
   "execution_count": 3,
   "id": "6357c903-ba85-4422-9307-855bd0b90d0b",
   "metadata": {},
   "outputs": [
    {
     "name": "stdout",
     "output_type": "stream",
     "text": [
      "Video file to be loaded: test/vid_1_short.mp4\n"
     ]
    }
   ],
   "source": [
    "print('Video file to be loaded: ' + str(fname))\n",
    "cap = cv2.VideoCapture(str(fname))\n",
    "num_frames = int(cap.get(cv2.CAP_PROP_FRAME_COUNT))"
   ]
  },
  {
   "cell_type": "code",
   "execution_count": 4,
   "id": "dad5717c-4681-4dad-bb2e-62e3f2aeed92",
   "metadata": {},
   "outputs": [
    {
     "data": {
      "text/plain": [
       "0"
      ]
     },
     "execution_count": 4,
     "metadata": {},
     "output_type": "execute_result"
    }
   ],
   "source": [
    "os.system('rm -r runs')"
   ]
  },
  {
   "cell_type": "code",
   "execution_count": 6,
   "id": "fa321659-5b03-46b2-b19c-8a5fbe4e44bf",
   "metadata": {
    "collapsed": true,
    "jupyter": {
     "outputs_hidden": true
    }
   },
   "outputs": [
    {
     "name": "stderr",
     "output_type": "stream",
     "text": [
      "\u001b[34m\u001b[1mdetect: \u001b[0mweights=['stage_0_weights/full.pt'], source=test/vid_1_short.mp4, data=data/coco128.yaml, imgsz=[800, 800], conf_thres=0.6, iou_thres=0.01, max_det=1000, device=, view_img=False, save_txt=True, save_format=0, save_csv=False, save_conf=True, save_crop=False, nosave=True, classes=None, agnostic_nms=False, augment=False, visualize=False, update=False, project=runs/detect, name=video_test, exist_ok=False, line_thickness=3, hide_labels=False, hide_conf=False, half=True, dnn=False, vid_stride=1\n",
      "YOLOv5 🚀 54eab55 Python-3.11.7 torch-2.1.2 CUDA:0 (NVIDIA GeForce RTX 4090, 24184MiB)\n",
      "\n",
      "Fusing layers... \n",
      "Model summary: 416 layers, 140086216 parameters, 0 gradients, 208.1 GFLOPs\n",
      "WARNING ⚠️ --img-size [800, 800] must be multiple of max stride 64, updating to [832, 832]\n",
      "video 1/1 (1/62) /home/salen/surge/docker_sub/surgvu2024-category1/test/vid_1_short.mp4: 704x832 1 monopolar_curved_scissors, 88.2ms\n",
      "video 1/1 (2/62) /home/salen/surge/docker_sub/surgvu2024-category1/test/vid_1_short.mp4: 704x832 1 monopolar_curved_scissors, 9.5ms\n",
      "video 1/1 (3/62) /home/salen/surge/docker_sub/surgvu2024-category1/test/vid_1_short.mp4: 704x832 1 monopolar_curved_scissors, 8.4ms\n",
      "video 1/1 (4/62) /home/salen/surge/docker_sub/surgvu2024-category1/test/vid_1_short.mp4: 704x832 1 monopolar_curved_scissors, 8.3ms\n",
      "video 1/1 (5/62) /home/salen/surge/docker_sub/surgvu2024-category1/test/vid_1_short.mp4: 704x832 1 monopolar_curved_scissors, 8.2ms\n",
      "video 1/1 (6/62) /home/salen/surge/docker_sub/surgvu2024-category1/test/vid_1_short.mp4: 704x832 1 monopolar_curved_scissors, 8.3ms\n",
      "video 1/1 (7/62) /home/salen/surge/docker_sub/surgvu2024-category1/test/vid_1_short.mp4: 704x832 1 monopolar_curved_scissors, 8.3ms\n",
      "video 1/1 (8/62) /home/salen/surge/docker_sub/surgvu2024-category1/test/vid_1_short.mp4: 704x832 1 monopolar_curved_scissors, 8.2ms\n",
      "video 1/1 (9/62) /home/salen/surge/docker_sub/surgvu2024-category1/test/vid_1_short.mp4: 704x832 1 monopolar_curved_scissors, 8.3ms\n",
      "video 1/1 (10/62) /home/salen/surge/docker_sub/surgvu2024-category1/test/vid_1_short.mp4: 704x832 1 monopolar_curved_scissors, 8.3ms\n",
      "video 1/1 (11/62) /home/salen/surge/docker_sub/surgvu2024-category1/test/vid_1_short.mp4: 704x832 1 monopolar_curved_scissors, 8.2ms\n",
      "video 1/1 (12/62) /home/salen/surge/docker_sub/surgvu2024-category1/test/vid_1_short.mp4: 704x832 1 monopolar_curved_scissors, 8.2ms\n",
      "video 1/1 (13/62) /home/salen/surge/docker_sub/surgvu2024-category1/test/vid_1_short.mp4: 704x832 1 monopolar_curved_scissors, 8.3ms\n",
      "video 1/1 (14/62) /home/salen/surge/docker_sub/surgvu2024-category1/test/vid_1_short.mp4: 704x832 1 monopolar_curved_scissors, 8.3ms\n",
      "video 1/1 (15/62) /home/salen/surge/docker_sub/surgvu2024-category1/test/vid_1_short.mp4: 704x832 1 monopolar_curved_scissors, 8.5ms\n",
      "video 1/1 (16/62) /home/salen/surge/docker_sub/surgvu2024-category1/test/vid_1_short.mp4: 704x832 1 monopolar_curved_scissors, 8.3ms\n",
      "video 1/1 (17/62) /home/salen/surge/docker_sub/surgvu2024-category1/test/vid_1_short.mp4: 704x832 1 monopolar_curved_scissors, 8.3ms\n",
      "video 1/1 (18/62) /home/salen/surge/docker_sub/surgvu2024-category1/test/vid_1_short.mp4: 704x832 1 monopolar_curved_scissors, 8.7ms\n",
      "video 1/1 (19/62) /home/salen/surge/docker_sub/surgvu2024-category1/test/vid_1_short.mp4: 704x832 1 monopolar_curved_scissors, 8.3ms\n",
      "video 1/1 (20/62) /home/salen/surge/docker_sub/surgvu2024-category1/test/vid_1_short.mp4: 704x832 1 monopolar_curved_scissors, 8.3ms\n",
      "video 1/1 (21/62) /home/salen/surge/docker_sub/surgvu2024-category1/test/vid_1_short.mp4: 704x832 1 monopolar_curved_scissors, 8.3ms\n",
      "video 1/1 (22/62) /home/salen/surge/docker_sub/surgvu2024-category1/test/vid_1_short.mp4: 704x832 1 bipolar_forceps, 1 monopolar_curved_scissors, 8.2ms\n",
      "video 1/1 (23/62) /home/salen/surge/docker_sub/surgvu2024-category1/test/vid_1_short.mp4: 704x832 1 bipolar_forceps, 1 monopolar_curved_scissors, 8.4ms\n",
      "video 1/1 (24/62) /home/salen/surge/docker_sub/surgvu2024-category1/test/vid_1_short.mp4: 704x832 1 cadiere_forceps, 1 monopolar_curved_scissors, 8.2ms\n",
      "video 1/1 (25/62) /home/salen/surge/docker_sub/surgvu2024-category1/test/vid_1_short.mp4: 704x832 1 cadiere_forceps, 1 monopolar_curved_scissors, 8.3ms\n",
      "video 1/1 (26/62) /home/salen/surge/docker_sub/surgvu2024-category1/test/vid_1_short.mp4: 704x832 1 cadiere_forceps, 1 monopolar_curved_scissors, 9.5ms\n",
      "video 1/1 (27/62) /home/salen/surge/docker_sub/surgvu2024-category1/test/vid_1_short.mp4: 704x832 1 bipolar_forceps, 1 cadiere_forceps, 1 monopolar_curved_scissors, 13.8ms\n",
      "video 1/1 (28/62) /home/salen/surge/docker_sub/surgvu2024-category1/test/vid_1_short.mp4: 704x832 1 bipolar_forceps, 1 cadiere_forceps, 1 monopolar_curved_scissors, 8.5ms\n",
      "video 1/1 (29/62) /home/salen/surge/docker_sub/surgvu2024-category1/test/vid_1_short.mp4: 704x832 1 bipolar_forceps, 1 monopolar_curved_scissors, 8.5ms\n",
      "video 1/1 (30/62) /home/salen/surge/docker_sub/surgvu2024-category1/test/vid_1_short.mp4: 704x832 1 bipolar_forceps, 1 cadiere_forceps, 1 monopolar_curved_scissors, 8.4ms\n",
      "video 1/1 (31/62) /home/salen/surge/docker_sub/surgvu2024-category1/test/vid_1_short.mp4: 704x832 1 bipolar_forceps, 1 monopolar_curved_scissors, 8.3ms\n",
      "video 1/1 (32/62) /home/salen/surge/docker_sub/surgvu2024-category1/test/vid_1_short.mp4: 704x832 1 bipolar_forceps, 1 monopolar_curved_scissors, 8.3ms\n",
      "video 1/1 (33/62) /home/salen/surge/docker_sub/surgvu2024-category1/test/vid_1_short.mp4: 704x832 1 bipolar_forceps, 1 monopolar_curved_scissors, 8.3ms\n",
      "video 1/1 (34/62) /home/salen/surge/docker_sub/surgvu2024-category1/test/vid_1_short.mp4: 704x832 1 bipolar_forceps, 1 monopolar_curved_scissors, 8.3ms\n",
      "video 1/1 (35/62) /home/salen/surge/docker_sub/surgvu2024-category1/test/vid_1_short.mp4: 704x832 1 bipolar_forceps, 1 monopolar_curved_scissors, 8.3ms\n",
      "video 1/1 (36/62) /home/salen/surge/docker_sub/surgvu2024-category1/test/vid_1_short.mp4: 704x832 1 bipolar_forceps, 1 cadiere_forceps, 1 monopolar_curved_scissors, 8.3ms\n",
      "video 1/1 (37/62) /home/salen/surge/docker_sub/surgvu2024-category1/test/vid_1_short.mp4: 704x832 1 bipolar_forceps, 1 cadiere_forceps, 1 monopolar_curved_scissors, 8.4ms\n",
      "video 1/1 (38/62) /home/salen/surge/docker_sub/surgvu2024-category1/test/vid_1_short.mp4: 704x832 1 bipolar_forceps, 1 monopolar_curved_scissors, 8.3ms\n",
      "video 1/1 (39/62) /home/salen/surge/docker_sub/surgvu2024-category1/test/vid_1_short.mp4: 704x832 1 bipolar_forceps, 1 cadiere_forceps, 1 monopolar_curved_scissors, 8.3ms\n",
      "video 1/1 (40/62) /home/salen/surge/docker_sub/surgvu2024-category1/test/vid_1_short.mp4: 704x832 1 bipolar_forceps, 1 cadiere_forceps, 1 monopolar_curved_scissors, 8.3ms\n",
      "video 1/1 (41/62) /home/salen/surge/docker_sub/surgvu2024-category1/test/vid_1_short.mp4: 704x832 1 bipolar_forceps, 1 cadiere_forceps, 1 monopolar_curved_scissors, 8.3ms\n",
      "video 1/1 (42/62) /home/salen/surge/docker_sub/surgvu2024-category1/test/vid_1_short.mp4: 704x832 1 bipolar_forceps, 1 cadiere_forceps, 1 monopolar_curved_scissors, 8.3ms\n",
      "video 1/1 (43/62) /home/salen/surge/docker_sub/surgvu2024-category1/test/vid_1_short.mp4: 704x832 1 bipolar_forceps, 1 cadiere_forceps, 1 monopolar_curved_scissors, 8.3ms\n",
      "video 1/1 (44/62) /home/salen/surge/docker_sub/surgvu2024-category1/test/vid_1_short.mp4: 704x832 1 bipolar_forceps, 1 cadiere_forceps, 1 monopolar_curved_scissors, 8.3ms\n",
      "video 1/1 (45/62) /home/salen/surge/docker_sub/surgvu2024-category1/test/vid_1_short.mp4: 704x832 1 bipolar_forceps, 1 cadiere_forceps, 1 monopolar_curved_scissors, 8.3ms\n",
      "video 1/1 (46/62) /home/salen/surge/docker_sub/surgvu2024-category1/test/vid_1_short.mp4: 704x832 1 bipolar_forceps, 1 cadiere_forceps, 1 monopolar_curved_scissors, 8.3ms\n",
      "video 1/1 (47/62) /home/salen/surge/docker_sub/surgvu2024-category1/test/vid_1_short.mp4: 704x832 1 bipolar_forceps, 1 cadiere_forceps, 1 monopolar_curved_scissors, 8.3ms\n",
      "video 1/1 (48/62) /home/salen/surge/docker_sub/surgvu2024-category1/test/vid_1_short.mp4: 704x832 1 bipolar_forceps, 1 cadiere_forceps, 1 monopolar_curved_scissors, 8.3ms\n",
      "video 1/1 (49/62) /home/salen/surge/docker_sub/surgvu2024-category1/test/vid_1_short.mp4: 704x832 1 bipolar_forceps, 1 cadiere_forceps, 1 monopolar_curved_scissors, 8.2ms\n",
      "video 1/1 (50/62) /home/salen/surge/docker_sub/surgvu2024-category1/test/vid_1_short.mp4: 704x832 1 bipolar_forceps, 1 cadiere_forceps, 1 monopolar_curved_scissors, 8.3ms\n",
      "video 1/1 (51/62) /home/salen/surge/docker_sub/surgvu2024-category1/test/vid_1_short.mp4: 704x832 1 bipolar_forceps, 1 cadiere_forceps, 1 monopolar_curved_scissors, 8.3ms\n",
      "video 1/1 (52/62) /home/salen/surge/docker_sub/surgvu2024-category1/test/vid_1_short.mp4: 704x832 1 bipolar_forceps, 1 cadiere_forceps, 1 monopolar_curved_scissors, 8.3ms\n",
      "video 1/1 (53/62) /home/salen/surge/docker_sub/surgvu2024-category1/test/vid_1_short.mp4: 704x832 1 bipolar_forceps, 1 cadiere_forceps, 1 monopolar_curved_scissors, 8.3ms\n",
      "video 1/1 (54/62) /home/salen/surge/docker_sub/surgvu2024-category1/test/vid_1_short.mp4: 704x832 1 bipolar_forceps, 1 cadiere_forceps, 1 monopolar_curved_scissors, 8.3ms\n",
      "video 1/1 (55/62) /home/salen/surge/docker_sub/surgvu2024-category1/test/vid_1_short.mp4: 704x832 1 bipolar_forceps, 1 cadiere_forceps, 1 monopolar_curved_scissors, 8.3ms\n",
      "video 1/1 (56/62) /home/salen/surge/docker_sub/surgvu2024-category1/test/vid_1_short.mp4: 704x832 1 bipolar_forceps, 1 monopolar_curved_scissors, 12.0ms\n",
      "video 1/1 (57/62) /home/salen/surge/docker_sub/surgvu2024-category1/test/vid_1_short.mp4: 704x832 1 bipolar_forceps, 1 cadiere_forceps, 1 monopolar_curved_scissors, 9.5ms\n",
      "video 1/1 (58/62) /home/salen/surge/docker_sub/surgvu2024-category1/test/vid_1_short.mp4: 704x832 1 bipolar_forceps, 1 cadiere_forceps, 1 monopolar_curved_scissors, 8.3ms\n",
      "video 1/1 (59/62) /home/salen/surge/docker_sub/surgvu2024-category1/test/vid_1_short.mp4: 704x832 1 bipolar_forceps, 1 cadiere_forceps, 1 monopolar_curved_scissors, 8.3ms\n",
      "video 1/1 (60/62) /home/salen/surge/docker_sub/surgvu2024-category1/test/vid_1_short.mp4: 704x832 1 bipolar_forceps, 1 cadiere_forceps, 1 monopolar_curved_scissors, 8.3ms\n",
      "Speed: 0.2ms pre-process, 9.8ms inference, 4.3ms NMS per image at shape (1, 3, 832, 832)\n",
      "Results saved to \u001b[1mruns/detect/video_test\u001b[0m\n",
      "60 labels saved to runs/detect/video_test/labels\n"
     ]
    },
    {
     "name": "stdout",
     "output_type": "stream",
     "text": [
      "\u001b[31m\u001b[1mrequirements:\u001b[0m /home/salen/surge/docker_sub/surgvu2024-category1/requirements.txt not found, check failed.\n"
     ]
    },
    {
     "data": {
      "text/plain": [
       "0"
      ]
     },
     "execution_count": 6,
     "metadata": {},
     "output_type": "execute_result"
    }
   ],
   "source": [
    "os.system(f'/home/salen/miniconda3/envs/torch/bin/python detect.py --source {fname} --half --img 800 --conf-thres 0.6 --iou-thres 0.01 --weights stage_0_weights/full.pt --name \"video_test\" --save-txt --save-conf --nosave')"
   ]
  },
  {
   "cell_type": "code",
   "execution_count": 7,
   "id": "ad3a189b-4620-4ee5-8045-934b694d1856",
   "metadata": {},
   "outputs": [],
   "source": [
    "all_dets = glob.glob('runs/detect/video_test/labels/*.txt')"
   ]
  },
  {
   "cell_type": "code",
   "execution_count": 8,
   "id": "ea4315d8-304d-4143-a61f-3c06c7ab354c",
   "metadata": {},
   "outputs": [],
   "source": [
    "all_index = [int(i.split('/')[-1].split('.')[0].split('_')[-1])-1 for i in all_dets]"
   ]
  },
  {
   "cell_type": "code",
   "execution_count": 9,
   "id": "f399fa71-3735-440b-b73b-5ee2dc75a913",
   "metadata": {},
   "outputs": [],
   "source": [
    "width = cap.get(cv2.CAP_PROP_FRAME_WIDTH)\n",
    "height = cap.get(cv2.CAP_PROP_FRAME_HEIGHT)"
   ]
  },
  {
   "cell_type": "code",
   "execution_count": 10,
   "id": "b401d7df-e690-48e4-9ac1-fc193035e38c",
   "metadata": {},
   "outputs": [],
   "source": [
    "num_to_lab = {\n",
    "            0: 'bipolar_forceps', \n",
    "            1: 'needle_driver', \n",
    "            2: 'cadiere_forceps', \n",
    "            3: 'monopolar_curved_scissor', \n",
    "            4: 'vessel_sealer', \n",
    "            5: 'force_bipolar', \n",
    "            6: 'prograsp_forceps', \n",
    "            7: 'permanent_cautery_hook_spatula', \n",
    "            8: 'stapler', \n",
    "            9: 'grasping_retractor', \n",
    "            10: 'clip_applier', \n",
    "            11: 'tip_up_fenestrated_grasper', \n",
    "            12: 'suction_irrigator', \n",
    "            }"
   ]
  },
  {
   "cell_type": "code",
   "execution_count": 11,
   "id": "c73274c8-8ec2-4407-818f-113073380602",
   "metadata": {},
   "outputs": [],
   "source": [
    "def generate_bbox(frame_id, width, height):\n",
    "    # bbox coordinates are the four corners of a box: [x, y, 0.5]\n",
    "    # Starting with top left as first corner, then following the clockwise sequence\n",
    "    # origin is defined as the top left corner of the video frame\n",
    "\n",
    "    if frame_id in all_index:\n",
    "        det_file = all_dets[all_index.index(frame_id)]\n",
    "    with open(det_file, 'r') as f:\n",
    "        lines = f.readlines()\n",
    "        f.close()\n",
    "        \n",
    "    predictions = []\n",
    "    for line in lines:\n",
    "\n",
    "        cls, x_c, y_c, w, h, prob = map(float, line.split())\n",
    "        \n",
    "        name = f'slice_nr_{frame_id}_' + num_to_lab[int(cls)]\n",
    "        bbox = [[(x_c-w/2)*width, (y_c-h/2)*height, 0.5],\n",
    "                [(x_c+w/2)*width, (y_c-h/2)*height, 0.5],\n",
    "                [(x_c+w/2)*width, (y_c+h/2)*height, 0.5],\n",
    "                [(x_c-w/2)*width, (y_c+h/2)*height, 0.5]]\n",
    "        \n",
    "        prediction = {\"corners\": bbox, \"name\": name, \"probability\": prob}\n",
    "        predictions.append(prediction)\n",
    "        \n",
    "    return predictions"
   ]
  },
  {
   "cell_type": "code",
   "execution_count": 12,
   "id": "75b71999-6bff-472f-a9a0-21d4b3616e1d",
   "metadata": {},
   "outputs": [
    {
     "data": {
      "text/plain": [
       "[{'corners': [[360.0, 174.00012800000002, 0.5],\n",
       "   [440.0, 174.00012800000002, 0.5],\n",
       "   [440.0, 227.00032, 0.5],\n",
       "   [360.0, 227.00032, 0.5]],\n",
       "  'name': 'slice_nr_0_monopolar_curved_scissor',\n",
       "  'probability': 0.915039}]"
      ]
     },
     "execution_count": 12,
     "metadata": {},
     "output_type": "execute_result"
    }
   ],
   "source": [
    "generate_bbox(0, width, height)"
   ]
  },
  {
   "cell_type": "code",
   "execution_count": 40,
   "id": "c53a7c5e-952e-4a2e-a548-a5c52804f276",
   "metadata": {},
   "outputs": [],
   "source": [
    "ret, frame = cap.read()"
   ]
  },
  {
   "cell_type": "code",
   "execution_count": 42,
   "id": "e44bcf87-0751-4b10-bfb9-86c12f96a757",
   "metadata": {},
   "outputs": [],
   "source": [
    "img = frame.copy()"
   ]
  },
  {
   "cell_type": "code",
   "execution_count": null,
   "id": "a6df14bb-4e07-4e3b-9775-97fead59c0ef",
   "metadata": {},
   "outputs": [],
   "source": []
  },
  {
   "cell_type": "code",
   "execution_count": 22,
   "id": "c912dc05-92c4-459b-8039-b5c37185961b",
   "metadata": {
    "collapsed": true,
    "jupyter": {
     "outputs_hidden": true
    }
   },
   "outputs": [
    {
     "data": {
      "text/plain": [
       "[18,\n",
       " 26,\n",
       " 2,\n",
       " 22,\n",
       " 49,\n",
       " 19,\n",
       " 37,\n",
       " 27,\n",
       " 0,\n",
       " 45,\n",
       " 41,\n",
       " 42,\n",
       " 52,\n",
       " 29,\n",
       " 20,\n",
       " 9,\n",
       " 12,\n",
       " 8,\n",
       " 38,\n",
       " 21,\n",
       " 48,\n",
       " 39,\n",
       " 58,\n",
       " 10,\n",
       " 5,\n",
       " 53,\n",
       " 23,\n",
       " 35,\n",
       " 6,\n",
       " 13,\n",
       " 47,\n",
       " 31,\n",
       " 36,\n",
       " 59,\n",
       " 57,\n",
       " 55,\n",
       " 44,\n",
       " 56,\n",
       " 25,\n",
       " 50,\n",
       " 14,\n",
       " 30,\n",
       " 4,\n",
       " 16,\n",
       " 24,\n",
       " 17,\n",
       " 11,\n",
       " 51,\n",
       " 1,\n",
       " 7,\n",
       " 34,\n",
       " 3,\n",
       " 40,\n",
       " 43,\n",
       " 15,\n",
       " 33,\n",
       " 46,\n",
       " 32,\n",
       " 28,\n",
       " 54]"
      ]
     },
     "execution_count": 22,
     "metadata": {},
     "output_type": "execute_result"
    }
   ],
   "source": [
    "all_index"
   ]
  },
  {
   "cell_type": "code",
   "execution_count": 23,
   "id": "a84b2b16-5cd5-42ba-bc2b-580a32c50a7a",
   "metadata": {},
   "outputs": [
    {
     "data": {
      "text/plain": [
       "62"
      ]
     },
     "execution_count": 23,
     "metadata": {},
     "output_type": "execute_result"
    }
   ],
   "source": [
    "num_frames"
   ]
  },
  {
   "cell_type": "code",
   "execution_count": null,
   "id": "42102b98-568d-4bca-998c-3953ae5c0eb1",
   "metadata": {},
   "outputs": [],
   "source": []
  },
  {
   "cell_type": "code",
   "execution_count": 9,
   "id": "eb239fed-5a51-43e0-bdaf-93867622f7f7",
   "metadata": {},
   "outputs": [],
   "source": [
    "all_frames_predicted_outputs = []\n",
    "\n",
    "for frame_id in range(50*60*100):\n",
    "\n",
    "    name = f'slice_nr_{frame_id}_monopolar_curved_scissor'\n",
    "    bbox = [[100, 100, 0.5],\n",
    "            [100, 100, 0.5],\n",
    "            [100, 100, 0.5],\n",
    "            [100, 100, 0.5]]\n",
    "    \n",
    "    prediction = {\"corners\": bbox, \"name\": name, \"probability\": 0.99989898989}\n",
    "\n",
    "    all_frames_predicted_outputs.append(prediction)"
   ]
  },
  {
   "cell_type": "code",
   "execution_count": 10,
   "id": "bf2aaab7-7ab0-400c-b53d-7690fd7a6340",
   "metadata": {},
   "outputs": [
    {
     "data": {
      "text/plain": [
       "300000"
      ]
     },
     "execution_count": 10,
     "metadata": {},
     "output_type": "execute_result"
    }
   ],
   "source": [
    "len(all_frames_predicted_outputs)"
   ]
  },
  {
   "cell_type": "code",
   "execution_count": 11,
   "id": "b9ed612c-105d-4281-8ed2-493523486e54",
   "metadata": {},
   "outputs": [],
   "source": [
    "import json"
   ]
  },
  {
   "cell_type": "code",
   "execution_count": 12,
   "id": "f3e72939-d21c-4b67-b9b7-941235497b43",
   "metadata": {
    "scrolled": true
   },
   "outputs": [],
   "source": [
    "with open('save_test.json', 'w') as f:\n",
    "    json.dump(all_frames_predicted_outputs, f)\n",
    "    f.close()"
   ]
  },
  {
   "cell_type": "code",
   "execution_count": null,
   "id": "c7f57144-e2fc-4b15-a762-5e97fe02662a",
   "metadata": {},
   "outputs": [],
   "source": []
  },
  {
   "cell_type": "code",
   "execution_count": null,
   "id": "525fc7c3-23e3-49cb-a82f-bf9d93e43624",
   "metadata": {},
   "outputs": [],
   "source": []
  },
  {
   "cell_type": "code",
   "execution_count": 22,
   "id": "2e1708af-8dd8-4ecf-bfec-cea31e54cf55",
   "metadata": {},
   "outputs": [
    {
     "data": {
      "text/plain": [
       "256"
      ]
     },
     "execution_count": 22,
     "metadata": {},
     "output_type": "execute_result"
    }
   ],
   "source": [
    "os.system('which python')"
   ]
  },
  {
   "cell_type": "code",
   "execution_count": null,
   "id": "ca65a6a1-f185-4c4c-9931-6cb9aa16a8f6",
   "metadata": {},
   "outputs": [],
   "source": []
  },
  {
   "cell_type": "code",
   "execution_count": 13,
   "id": "c2b728d9-d484-4d5a-b5a1-bd4e36d9c95f",
   "metadata": {},
   "outputs": [],
   "source": [
    "import subprocess\n",
    "import sys"
   ]
  },
  {
   "cell_type": "code",
   "execution_count": 17,
   "id": "59011dfc-51b1-4f77-9bbd-e4a0e3fd2e1f",
   "metadata": {},
   "outputs": [
    {
     "data": {
      "text/plain": [
       "<Popen: returncode: None args: ['/home/salen/miniconda3/envs/torch/bin/pytho...>"
      ]
     },
     "execution_count": 17,
     "metadata": {},
     "output_type": "execute_result"
    }
   ],
   "source": [
    "subprocess.Popen([sys.executable, 'detect.py --source {file_path} --half --img 800 --conf-thres 0.6 --iou-thres 0.01 --weights stage_0_weights/full.pt --name \"video_test\" --save-txt --save-conf --nosave'],\n",
    "        stdout=subprocess.PIPE,\n",
    "        stderr=subprocess.STDOUT)"
   ]
  },
  {
   "cell_type": "code",
   "execution_count": null,
   "id": "e9cad988-82f7-4141-b7e2-041107f39e9a",
   "metadata": {},
   "outputs": [],
   "source": [
    ", '--source {file_path} --half --img 800 --conf-thres 0.6 --iou-thres 0.01 --weights stage_0_weights/full.pt --name \"video_test\" --save-txt --save-conf --nosave'"
   ]
  },
  {
   "cell_type": "code",
   "execution_count": 23,
   "id": "79cc460c-a8e4-43c5-ba4e-9d61f03346dd",
   "metadata": {},
   "outputs": [
    {
     "data": {
      "text/plain": [
       "CompletedProcess(args='which python', returncode=1)"
      ]
     },
     "execution_count": 23,
     "metadata": {},
     "output_type": "execute_result"
    }
   ],
   "source": [
    "subprocess.run('which python', shell=True, env=os.environ.copy())"
   ]
  },
  {
   "cell_type": "code",
   "execution_count": 20,
   "id": "81b5c3a0-f3e7-48e9-ae05-ecd12cd5c256",
   "metadata": {},
   "outputs": [
    {
     "data": {
      "text/plain": [
       "CompletedProcess(args=['/home/salen/miniconda3/envs/torch/bin/python', 'detect.py'], returncode=0)"
      ]
     },
     "execution_count": 20,
     "metadata": {},
     "output_type": "execute_result"
    }
   ],
   "source": [
    "subprocess.run(['/home/salen/miniconda3/envs/torch/bin/python', 'detect.py'], shell=True)"
   ]
  },
  {
   "cell_type": "code",
   "execution_count": 8,
   "id": "4565f6b5-bb81-478e-a4c1-c2ca7e0645d4",
   "metadata": {},
   "outputs": [
    {
     "data": {
      "text/plain": [
       "'/usr/local/sbin:/usr/local/bin:/usr/sbin:/usr/bin:/sbin:/bin:/snap/bin'"
      ]
     },
     "execution_count": 8,
     "metadata": {},
     "output_type": "execute_result"
    }
   ],
   "source": [
    "os.environ['PATH']"
   ]
  }
 ],
 "metadata": {
  "kernelspec": {
   "display_name": "torch",
   "language": "python",
   "name": "torch"
  },
  "language_info": {
   "codemirror_mode": {
    "name": "ipython",
    "version": 3
   },
   "file_extension": ".py",
   "mimetype": "text/x-python",
   "name": "python",
   "nbconvert_exporter": "python",
   "pygments_lexer": "ipython3",
   "version": "3.11.7"
  }
 },
 "nbformat": 4,
 "nbformat_minor": 5
}
